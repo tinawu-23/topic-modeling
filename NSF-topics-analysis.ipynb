{
 "cells": [
  {
   "cell_type": "code",
   "execution_count": 1,
   "metadata": {
    "scrolled": false
   },
   "outputs": [
    {
     "name": "stdout",
     "output_type": "stream",
     "text": [
      "                            NSF Award Title Non-phrases  index\n",
      "0     application applications basic premise data ba...      0\n",
      "1     algorithm implementation algorithms analysis a...      1\n",
      "2     assumption basic problems certain special case...      2\n",
      "3     active updating amount analysis analytical res...      3\n",
      "4     act act theory computer computer simulator com...      4\n",
      "5     artificial intelligence basic query languages ...      5\n",
      "6     abstract prosidic categories abstract prosodic...      6\n",
      "7      dynamical  processes  energy -processing  inf...      7\n",
      "8     ability analytically derived concepts approach...      8\n",
      "9     acquisition ambiguous examples classification ...      9\n",
      "10    advance applications artificial intelligence r...     10\n",
      "11    addition arm assembly capabilities complex rob...     11\n",
      "12    active experimentation additional knowledge ap...     12\n",
      "13    addition areas cad/cam commercial reality comp...     13\n",
      "14    ability addition analogical processing boilers...     14\n",
      "15    3-d structure algorithms analysis current stru...     15\n",
      "16    application attempt axiomatic treatment comput...     16\n",
      "17    abstract complexity theory applications applic...     17\n",
      "18    arbitrary curves arbitrary positions articulat...     18\n",
      "19    binary independence model computer systems doc...     19\n",
      "20    algorithm acts appproach biochemical propertie...     20\n",
      "21    acoustic invariants area automatic speech reco...     21\n",
      "22    automatic information retrieval automatic info...     22\n",
      "23    ability alternative meanings artificial intell...     23\n",
      "24    ambiguities application assumptions complete s...     24\n",
      "25    adaptive sensorimotor control addition advance...     25\n",
      "26    account algebraic models artificial intelligen...     26\n",
      "27    ad hoc methods ad hoc techniques applicability...     27\n",
      "28    august california community control costs deve...     28\n",
      "29    access application environment approach charac...     29\n",
      "...                                                 ...    ...\n",
      "6892  brain function brain imaging genomics brain im...   6892\n",
      "6893  ability abstraction algorithms amount anything...   6893\n",
      "6894  actionable behavior change suggestions actiona...   6894\n",
      "6895  alignment b c classroom observations classroom...   6895\n",
      "6896  accurate previewing adaptive refinement adapti...   6896\n",
      "6897  adaptive learning progressions anticipated dis...   6897\n",
      "6898  ability advanced robots algorithms algorithms ...   6898\n",
      "6899  adjacent characters algebra word problem algor...   6899\n",
      "6900  access accuracy advantage association behavior...   6900\n",
      "6901  addition approaches areas artifact analysis aw...   6901\n",
      "6902  ability adapt answers array basis case chs com...   6902\n",
      "6903  adults areas autonomous manipulation methods b...   6903\n",
      "6904  advanced machine learning applications algorit...   6904\n",
      "6905  agent agents american universities area assess...   6905\n",
      "6906  //ischools.org/the-iconference 21st century ac...   6906\n",
      "6907  //iui.acm.org/2017 20-30 presentation 200-300 ...   6907\n",
      "6908  //icad.org/icad2017/ academic program accommod...   6908\n",
      "6909  //cscw.acm.org/2017/index.php 1.5-day event ta...   6909\n",
      "6910  access application programming interfaces appr...   6910\n",
      "6911  academics agency leaders ai artificial intelli...   6911\n",
      "6912  //humanrobotinteraction.org/2017 3-minute over...   6912\n",
      "6913  area boston challenges collaborations computer...   6913\n",
      "6914  //www.nsf.gov/crcns a report area award center...   6914\n",
      "6915  aamas academia addition advances advice agent-...   6915\n",
      "6916  //www.fg2017.org/ abstracts activities applica...   6916\n",
      "6917  % increase //chi2017.acm.org/ 2-day long event...   6917\n",
      "6918  april award co-authors conference corbon coref...   6918\n",
      "6919  computational approaches context core correct ...   6919\n",
      "6920  //www.um.org/umap2017/ 30-minute window abilit...   6920\n",
      "6921  //iswc2017.semanticweb.org/ academia activitie...   6921\n",
      "\n",
      "[6922 rows x 2 columns]\n"
     ]
    },
    {
     "name": "stderr",
     "output_type": "stream",
     "text": [
      "b'Skipping line 946: expected 1 fields, saw 2\\nSkipping line 1957: expected 1 fields, saw 2\\nSkipping line 2826: expected 1 fields, saw 2\\nSkipping line 4376: expected 1 fields, saw 2\\nSkipping line 5810: expected 1 fields, saw 3\\nSkipping line 5811: expected 1 fields, saw 3\\n'\n"
     ]
    }
   ],
   "source": [
    "import pandas as pd\n",
    "\n",
    "data = pd.read_csv('NSF_awardtopics.txt', error_bad_lines=False)\n",
    "data.columns = ['NSF Award Title Non-phrases']\n",
    "data['index'] = data.index\n",
    "documents = data\n",
    "print(data)"
   ]
  },
  {
   "cell_type": "code",
   "execution_count": 83,
   "metadata": {},
   "outputs": [],
   "source": [
    "import gensim\n",
    "from gensim.utils import simple_preprocess\n",
    "from gensim.parsing.preprocessing import STOPWORDS\n",
    "# from nltk.stem import WordNetLemmatizer, SnowballStemmer\n",
    "# from nltk.stem.porter import *\n",
    "import numpy as np\n",
    "np.random.seed(2018)"
   ]
  },
  {
   "cell_type": "code",
   "execution_count": 84,
   "metadata": {},
   "outputs": [
    {
     "name": "stderr",
     "output_type": "stream",
     "text": [
      "[nltk_data] Downloading package wordnet to\n",
      "[nltk_data]     /afs/crc.nd.edu/user/y/ywu6/nltk_data...\n",
      "[nltk_data]   Package wordnet is already up-to-date!\n"
     ]
    },
    {
     "data": {
      "text/plain": [
       "True"
      ]
     },
     "execution_count": 84,
     "metadata": {},
     "output_type": "execute_result"
    }
   ],
   "source": [
    "import nltk\n",
    "nltk.download('wordnet')"
   ]
  },
  {
   "cell_type": "code",
   "execution_count": 85,
   "metadata": {},
   "outputs": [],
   "source": [
    "stemmer = SnowballStemmer('english')\n",
    "# def lemmatize_stemming(text):\n",
    "#     return stemmer.stem(WordNetLemmatizer().lemmatize(text, pos='v'))\n",
    "\n",
    "def preprocess(text):\n",
    "    result = []\n",
    "    researchstopwords = ['data', 'research', 'model', 'student', 'idea', 'project']\n",
    "    for token in gensim.utils.simple_preprocess(text):\n",
    "        if token not in gensim.parsing.preprocessing.STOPWORDS and len(token) >= 3 and token not in researchstopwords:\n",
    "            result.append(token)\n",
    "    return result"
   ]
  },
  {
   "cell_type": "code",
   "execution_count": 86,
   "metadata": {},
   "outputs": [],
   "source": [
    "# doc_sample = documents[documents['index'] == 250].values[0][0]\n",
    "# print('original document: ')\n",
    "# words = []\n",
    "# for word in doc_sample.split(' '):\n",
    "#     words.append(word)\n",
    "# print(words)\n",
    "# print('\\n\\n tokenized and lemmatized document: ')\n",
    "# print(preprocess(doc_sample))"
   ]
  },
  {
   "cell_type": "code",
   "execution_count": 87,
   "metadata": {},
   "outputs": [],
   "source": [
    "processed_docs = documents['NSF Award Title Non-phrases'].map(preprocess)"
   ]
  },
  {
   "cell_type": "code",
   "execution_count": 88,
   "metadata": {},
   "outputs": [
    {
     "data": {
      "text/plain": [
       "0    [application, applications, basic, premise, ba...\n",
       "1    [algorithm, implementation, algorithms, analys...\n",
       "2    [assumption, basic, problems, certain, special...\n",
       "3    [active, updating, analysis, analytical, resul...\n",
       "4    [act, act, theory, simulator, teaching, system...\n",
       "5    [artificial, intelligence, basic, query, langu...\n",
       "6    [abstract, prosidic, categories, abstract, pro...\n",
       "7    [dynamical, processes, energy, processing, inf...\n",
       "8    [ability, analytically, derived, concepts, app...\n",
       "9    [acquisition, ambiguous, examples, classificat...\n",
       "Name: NSF Award Title Non-phrases, dtype: object"
      ]
     },
     "execution_count": 88,
     "metadata": {},
     "output_type": "execute_result"
    }
   ],
   "source": [
    "processed_docs[:10]"
   ]
  },
  {
   "cell_type": "code",
   "execution_count": null,
   "metadata": {},
   "outputs": [],
   "source": [
    "dictionary = gensim.corpora.Dictionary(processed_docs)"
   ]
  },
  {
   "cell_type": "code",
   "execution_count": null,
   "metadata": {},
   "outputs": [],
   "source": [
    "bow_corpus = [dictionary.doc2bow(doc) for doc in processed_docs]"
   ]
  },
  {
   "cell_type": "code",
   "execution_count": null,
   "metadata": {},
   "outputs": [],
   "source": [
    "# bow_doc_200 = bow_corpus[200]\n",
    "\n",
    "# for i in range(len(bow_doc_200)):\n",
    "#     print(\"Word {} (\\\"{}\\\") appears {} time.\".format(bow_doc_200[i][0], \n",
    "#                                                      dictionary[bow_doc_200[i][0]], \n",
    "#                                                      bow_doc_200[i][1]))"
   ]
  },
  {
   "cell_type": "code",
   "execution_count": null,
   "metadata": {},
   "outputs": [],
   "source": [
    "from gensim import corpora, models\n",
    "\n",
    "tfidf = models.TfidfModel(bow_corpus)\n",
    "corpus_tfidf = tfidf[bow_corpus]"
   ]
  },
  {
   "cell_type": "code",
   "execution_count": null,
   "metadata": {},
   "outputs": [],
   "source": [
    "# from pprint import pprint\n",
    "\n",
    "# for doc in corpus_tfidf:\n",
    "#     pprint(doc)\n",
    "#     break"
   ]
  },
  {
   "cell_type": "code",
   "execution_count": null,
   "metadata": {},
   "outputs": [],
   "source": [
    "lda_model = gensim.models.LdaMulticore(bow_corpus, num_topics=30, id2word=dictionary, passes=4, workers=6)"
   ]
  },
  {
   "cell_type": "code",
   "execution_count": null,
   "metadata": {},
   "outputs": [],
   "source": []
  },
  {
   "cell_type": "code",
   "execution_count": null,
   "metadata": {},
   "outputs": [],
   "source": [
    "for idx, topic in lda_model.print_topics(-1):\n",
    "    print('Topic: {} \\nWords: {}'.format(idx, topic))"
   ]
  },
  {
   "cell_type": "code",
   "execution_count": null,
   "metadata": {},
   "outputs": [],
   "source": [
    "lda_model_tfidf = gensim.models.LdaMulticore(corpus_tfidf, num_topics=20, id2word=dictionary, passes=2, workers=4)\n",
    "\n",
    "for idx, topic in lda_model_tfidf.print_topics(-1):\n",
    "    print('Topic: {} \\nWords: {}'.format(idx, topic))"
   ]
  },
  {
   "cell_type": "code",
   "execution_count": null,
   "metadata": {},
   "outputs": [],
   "source": [
    "test_title = 'Computer Vision'\n",
    "bow_vector = dictionary.doc2bow(preprocess(test_title))\n",
    "\n",
    "for index, score in sorted(lda_model[bow_vector], key=lambda tup: -1*tup[1]):\n",
    "    print(\"Score: {}\\t Topic: {}\".format(score, lda_model.print_topic(index, 5)))"
   ]
  },
  {
   "cell_type": "code",
   "execution_count": null,
   "metadata": {},
   "outputs": [],
   "source": [
    "test_title = 'Machine Learning'\n",
    "bow_vector = dictionary.doc2bow(preprocess(test_title))\n",
    "\n",
    "for index, score in sorted(lda_model_tfidf[bow_vector], key=lambda tup: -1*tup[1]):\n",
    "    print(\"Score: {}\\t Topic: {}\".format(score, lda_model_tfidf.print_topic(index, 5)))"
   ]
  },
  {
   "cell_type": "code",
   "execution_count": null,
   "metadata": {},
   "outputs": [],
   "source": [
    "test_title = 'Models'\n",
    "bow_vector = dictionary.doc2bow(preprocess(test_title))\n",
    "\n",
    "for index, score in sorted(lda_model[bow_vector], key=lambda tup: -1*tup[1]):\n",
    "    print(\"Score: {}\\t Topic: {}\".format(score, lda_model.print_topic(index, 5)))"
   ]
  },
  {
   "cell_type": "code",
   "execution_count": null,
   "metadata": {},
   "outputs": [],
   "source": []
  }
 ],
 "metadata": {
  "kernelspec": {
   "display_name": "Python 3",
   "language": "python",
   "name": "python3"
  },
  "language_info": {
   "codemirror_mode": {
    "name": "ipython",
    "version": 3
   },
   "file_extension": ".py",
   "mimetype": "text/x-python",
   "name": "python",
   "nbconvert_exporter": "python",
   "pygments_lexer": "ipython3",
   "version": "3.6.4"
  }
 },
 "nbformat": 4,
 "nbformat_minor": 2
}
