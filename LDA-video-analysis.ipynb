{
 "cells": [
  {
   "cell_type": "code",
   "execution_count": 19,
   "metadata": {
    "scrolled": false
   },
   "outputs": [],
   "source": [
    "import pandas as pd\n",
    "\n",
    "data = pd.read_csv('ytvideo.csv', header=None)\n",
    "data.columns = ['video_title']\n",
    "data['index'] = data.index\n",
    "documents = data"
   ]
  },
  {
   "cell_type": "code",
   "execution_count": 20,
   "metadata": {},
   "outputs": [],
   "source": [
    "import gensim\n",
    "from gensim.utils import simple_preprocess\n",
    "from gensim.parsing.preprocessing import STOPWORDS\n",
    "from nltk.stem import WordNetLemmatizer, SnowballStemmer\n",
    "from nltk.stem.porter import *\n",
    "import numpy as np\n",
    "np.random.seed(2018)"
   ]
  },
  {
   "cell_type": "code",
   "execution_count": 21,
   "metadata": {},
   "outputs": [
    {
     "name": "stderr",
     "output_type": "stream",
     "text": [
      "[nltk_data] Downloading package wordnet to\n",
      "[nltk_data]     /afs/crc.nd.edu/user/y/ywu6/nltk_data...\n",
      "[nltk_data]   Package wordnet is already up-to-date!\n"
     ]
    },
    {
     "data": {
      "text/plain": [
       "True"
      ]
     },
     "execution_count": 21,
     "metadata": {},
     "output_type": "execute_result"
    }
   ],
   "source": [
    "import nltk\n",
    "nltk.download('wordnet')"
   ]
  },
  {
   "cell_type": "code",
   "execution_count": 22,
   "metadata": {},
   "outputs": [],
   "source": [
    "stemmer = SnowballStemmer('english')\n",
    "def lemmatize_stemming(text):\n",
    "    return stemmer.stem(WordNetLemmatizer().lemmatize(text, pos='v'))\n",
    "\n",
    "def preprocess(text):\n",
    "    result = []\n",
    "    for token in gensim.utils.simple_preprocess(text):\n",
    "        if token not in gensim.parsing.preprocessing.STOPWORDS and len(token) >= 3:\n",
    "            result.append(lemmatize_stemming(token))\n",
    "    return result"
   ]
  },
  {
   "cell_type": "code",
   "execution_count": 23,
   "metadata": {},
   "outputs": [
    {
     "name": "stdout",
     "output_type": "stream",
     "text": [
      "original document: \n",
      "['The', 'perfect', 'ice', '-', 'Ice', 'boats', 'on', 'Lake', 'Geneva']\n",
      "\n",
      "\n",
      " tokenized and lemmatized document: \n",
      "['perfect', 'ice', 'ice', 'boat', 'lake', 'geneva']\n"
     ]
    }
   ],
   "source": [
    "doc_sample = documents[documents['index'] == 250].values[0][0]\n",
    "print('original document: ')\n",
    "words = []\n",
    "for word in doc_sample.split(' '):\n",
    "    words.append(word)\n",
    "print(words)\n",
    "print('\\n\\n tokenized and lemmatized document: ')\n",
    "print(preprocess(doc_sample))"
   ]
  },
  {
   "cell_type": "code",
   "execution_count": 24,
   "metadata": {},
   "outputs": [],
   "source": [
    "processed_docs = documents['video_title'].map(preprocess)"
   ]
  },
  {
   "cell_type": "code",
   "execution_count": 25,
   "metadata": {},
   "outputs": [
    {
     "data": {
      "text/plain": [
       "0                                [want, talk, marriag]\n",
       "1      [trump, presid, week, tonight, john, oliv, hbo]\n",
       "2    [racist, superman, rudi, mancuso, king, bach, ...\n",
       "3                      [nickelback, lyric, real, fake]\n",
       "4                                     [dare, go, bald]\n",
       "5                                        [week, iphon]\n",
       "6          [roy, moor, jeff, session, cold, open, snl]\n",
       "7                           [ice, cream, gadget, test]\n",
       "8    [greatest, showman, offici, trailer, centuri, ...\n",
       "9                 [rise, robot, wonâ, mean, end, work]\n",
       "Name: video_title, dtype: object"
      ]
     },
     "execution_count": 25,
     "metadata": {},
     "output_type": "execute_result"
    }
   ],
   "source": [
    "processed_docs[:10]"
   ]
  },
  {
   "cell_type": "code",
   "execution_count": 26,
   "metadata": {},
   "outputs": [],
   "source": [
    "dictionary = gensim.corpora.Dictionary(processed_docs)"
   ]
  },
  {
   "cell_type": "code",
   "execution_count": 27,
   "metadata": {},
   "outputs": [],
   "source": [
    "bow_corpus = [dictionary.doc2bow(doc) for doc in processed_docs]"
   ]
  },
  {
   "cell_type": "code",
   "execution_count": 28,
   "metadata": {},
   "outputs": [
    {
     "name": "stdout",
     "output_type": "stream",
     "text": [
      "Word 768 (\"airlin\") appears 1 time.\n",
      "Word 769 (\"brent\") appears 1 time.\n",
      "Word 770 (\"fli\") appears 1 time.\n",
      "Word 771 (\"pella\") appears 1 time.\n",
      "Word 772 (\"shouldn\") appears 1 time.\n",
      "Word 773 (\"spirit\") appears 1 time.\n"
     ]
    }
   ],
   "source": [
    "bow_doc_200 = bow_corpus[200]\n",
    "\n",
    "for i in range(len(bow_doc_200)):\n",
    "    print(\"Word {} (\\\"{}\\\") appears {} time.\".format(bow_doc_200[i][0], \n",
    "                                                     dictionary[bow_doc_200[i][0]], \n",
    "                                                     bow_doc_200[i][1]))"
   ]
  },
  {
   "cell_type": "code",
   "execution_count": 29,
   "metadata": {},
   "outputs": [],
   "source": [
    "from gensim import corpora, models\n",
    "\n",
    "tfidf = models.TfidfModel(bow_corpus)\n",
    "corpus_tfidf = tfidf[bow_corpus]"
   ]
  },
  {
   "cell_type": "code",
   "execution_count": 30,
   "metadata": {},
   "outputs": [
    {
     "name": "stdout",
     "output_type": "stream",
     "text": [
      "[(0, 0.6385308231954088), (1, 0.4296007165482703), (2, 0.6385308231954088)]\n"
     ]
    }
   ],
   "source": [
    "from pprint import pprint\n",
    "\n",
    "for doc in corpus_tfidf:\n",
    "    pprint(doc)\n",
    "    break"
   ]
  },
  {
   "cell_type": "code",
   "execution_count": 31,
   "metadata": {},
   "outputs": [],
   "source": [
    "lda_model = gensim.models.LdaMulticore(bow_corpus, num_topics=30, id2word=dictionary, passes=2, workers=2)"
   ]
  },
  {
   "cell_type": "code",
   "execution_count": 32,
   "metadata": {},
   "outputs": [
    {
     "name": "stdout",
     "output_type": "stream",
     "text": [
      "Topic: 0 \n",
      "Words: 0.028*\"surpris\" + 0.028*\"lyric\" + 0.023*\"video\" + 0.014*\"jimmi\" + 0.014*\"pitbul\" + 0.014*\"finish\" + 0.014*\"fallon\" + 0.014*\"pay\" + 0.014*\"cabello\" + 0.014*\"jungl\"\n",
      "Topic: 1 \n",
      "Words: 0.031*\"audio\" + 0.025*\"star\" + 0.025*\"offici\" + 0.022*\"bodi\" + 0.022*\"hilari\" + 0.022*\"coller\" + 0.022*\"know\" + 0.019*\"danc\" + 0.019*\"sun\" + 0.019*\"phillip\"\n",
      "Topic: 2 \n",
      "Words: 0.030*\"watch\" + 0.021*\"secret\" + 0.018*\"lace\" + 0.018*\"reveal\" + 0.018*\"lay\" + 0.018*\"wig\" + 0.018*\"aaliyahjay\" + 0.015*\"hous\" + 0.015*\"judiciari\" + 0.015*\"make\"\n",
      "Topic: 3 \n",
      "Words: 0.035*\"spaghetti\" + 0.035*\"burrito\" + 0.018*\"democraci\" + 0.018*\"dictat\" + 0.018*\"smart\" + 0.018*\"eminem\" + 0.018*\"card\" + 0.018*\"apart\" + 0.018*\"mug\" + 0.018*\"walk\"\n",
      "Topic: 4 \n",
      "Words: 0.024*\"jason\" + 0.018*\"offici\" + 0.015*\"trailer\" + 0.012*\"mcadam\" + 0.012*\"later\" + 0.012*\"bateman\" + 0.012*\"quindent\" + 0.012*\"game\" + 0.012*\"alan\" + 0.012*\"momoa\"\n",
      "Topic: 5 \n",
      "Words: 0.046*\"week\" + 0.024*\"player\" + 0.024*\"end\" + 0.020*\"iphon\" + 0.017*\"hbo\" + 0.017*\"john\" + 0.017*\"presid\" + 0.017*\"tonight\" + 0.017*\"oliv\" + 0.017*\"trump\"\n",
      "Topic: 6 \n",
      "Words: 0.023*\"open\" + 0.023*\"video\" + 0.023*\"lyric\" + 0.018*\"offici\" + 0.015*\"smith\" + 0.015*\"session\" + 0.015*\"jeff\" + 0.015*\"roy\" + 0.015*\"cold\" + 0.015*\"snl\"\n",
      "Topic: 7 \n",
      "Words: 0.032*\"peopl\" + 0.030*\"pet\" + 0.030*\"awesom\" + 0.017*\"worth\" + 0.017*\"shower\" + 0.015*\"collect\" + 0.015*\"present\" + 0.013*\"phil\" + 0.013*\"brown\" + 0.013*\"jackson\"\n",
      "Topic: 8 \n",
      "Words: 0.029*\"react\" + 0.017*\"express\" + 0.017*\"mdna\" + 0.017*\"danc\" + 0.017*\"know\" + 0.017*\"sia\" + 0.017*\"snowman\" + 0.017*\"skin\" + 0.015*\"run\" + 0.015*\"half\"\n",
      "Topic: 9 \n",
      "Words: 0.021*\"dream\" + 0.021*\"control\" + 0.018*\"makeup\" + 0.018*\"review\" + 0.017*\"face\" + 0.016*\"night\" + 0.014*\"wichita\" + 0.014*\"town\" + 0.014*\"big\" + 0.014*\"holi\"\n",
      "Topic: 10 \n",
      "Words: 0.038*\"face\" + 0.030*\"offici\" + 0.020*\"old\" + 0.020*\"taylor\" + 0.019*\"iphon\" + 0.016*\"swift\" + 0.016*\"dayâ\" + 0.016*\"yearâ\" + 0.016*\"perform\" + 0.016*\"casspi\"\n",
      "Topic: 11 \n",
      "Words: 0.030*\"fei\" + 0.024*\"surpris\" + 0.018*\"video\" + 0.015*\"secret\" + 0.015*\"beauti\" + 0.015*\"perform\" + 0.015*\"pixel\" + 0.015*\"care\" + 0.015*\"european\" + 0.015*\"super\"\n",
      "Topic: 12 \n",
      "Words: 0.017*\"cake\" + 0.017*\"studi\" + 0.017*\"helbig\" + 0.017*\"movi\" + 0.017*\"molli\" + 0.017*\"decor\" + 0.017*\"contest\" + 0.017*\"fold\" + 0.017*\"grace\" + 0.017*\"blind\"\n",
      "Topic: 13 \n",
      "Words: 0.090*\"video\" + 0.089*\"offici\" + 0.059*\"music\" + 0.029*\"amor\" + 0.025*\"world\" + 0.013*\"marshmello\" + 0.013*\"block\" + 0.012*\"ice\" + 0.012*\"parachut\" + 0.012*\"deep\"\n",
      "Topic: 14 \n",
      "Words: 0.024*\"talk\" + 0.021*\"want\" + 0.021*\"marriag\" + 0.018*\"earthquak\" + 0.018*\"girlfriend\" + 0.015*\"grow\" + 0.015*\"jeff\" + 0.015*\"amazon\" + 0.015*\"bezo\" + 0.015*\"mark\"\n",
      "Topic: 15 \n",
      "Words: 0.018*\"honest\" + 0.018*\"owner\" + 0.018*\"year\" + 0.018*\"think\" + 0.018*\"batman\" + 0.018*\"trailer\" + 0.018*\"dead\" + 0.018*\"forev\" + 0.018*\"regist\" + 0.018*\"edna\"\n",
      "Topic: 16 \n",
      "Words: 0.015*\"frank\" + 0.015*\"japanes\" + 0.015*\"wild\" + 0.015*\"sakura\" + 0.015*\"sean\" + 0.015*\"pinello\" + 0.015*\"yagi\" + 0.015*\"tour\" + 0.015*\"food\" + 0.015*\"second\"\n",
      "Topic: 17 \n",
      "Words: 0.043*\"trailer\" + 0.032*\"slow\" + 0.016*\"guy\" + 0.016*\"final\" + 0.016*\"live\" + 0.016*\"katana\" + 0.016*\"sword\" + 0.016*\"shape\" + 0.016*\"water\" + 0.016*\"autumn\"\n",
      "Topic: 18 \n",
      "Words: 0.034*\"offici\" + 0.034*\"video\" + 0.022*\"music\" + 0.019*\"nickelback\" + 0.019*\"tweet\" + 0.019*\"betray\" + 0.019*\"iii\" + 0.019*\"act\" + 0.019*\"mean\" + 0.015*\"mickey\"\n",
      "Topic: 19 \n",
      "Words: 0.027*\"style\" + 0.027*\"harri\" + 0.014*\"factor\" + 0.014*\"sign\" + 0.014*\"canta\" + 0.014*\"lightn\" + 0.014*\"live\" + 0.014*\"departur\" + 0.014*\"strike\" + 0.014*\"time\"\n",
      "Topic: 20 \n",
      "Words: 0.049*\"iphon\" + 0.026*\"test\" + 0.022*\"ice\" + 0.022*\"gadget\" + 0.022*\"cream\" + 0.019*\"spotmini\" + 0.018*\"new\" + 0.017*\"peopl\" + 0.016*\"act\" + 0.016*\"facial\"\n",
      "Topic: 21 \n",
      "Words: 0.056*\"talk\" + 0.021*\"drive\" + 0.021*\"danger\" + 0.021*\"camera\" + 0.019*\"dead\" + 0.019*\"scene\" + 0.019*\"spoiler\" + 0.019*\"walk\" + 0.019*\"save\" + 0.019*\"day\"\n",
      "Topic: 22 \n",
      "Words: 0.027*\"emir\" + 0.019*\"new\" + 0.016*\"versac\" + 0.016*\"bon\" + 0.016*\"guy\" + 0.016*\"crime\" + 0.016*\"brooklyn\" + 0.016*\"tit\" + 0.016*\"season\" + 0.016*\"assassin\"\n",
      "Topic: 23 \n",
      "Words: 0.024*\"face\" + 0.024*\"love\" + 0.017*\"bach\" + 0.017*\"king\" + 0.017*\"superman\" + 0.017*\"rudi\" + 0.017*\"fake\" + 0.017*\"mancuso\" + 0.017*\"lyric\" + 0.017*\"lele\"\n",
      "Topic: 24 \n",
      "Words: 0.026*\"bite\" + 0.026*\"sorri\" + 0.021*\"audio\" + 0.021*\"dare\" + 0.021*\"bald\" + 0.021*\"go\" + 0.018*\"injur\" + 0.018*\"iraq\" + 0.018*\"iran\" + 0.018*\"leav\"\n",
      "Topic: 25 \n",
      "Words: 0.039*\"cat\" + 0.033*\"lewi\" + 0.033*\"john\" + 0.021*\"let\" + 0.018*\"cream\" + 0.018*\"slumber\" + 0.018*\"advert\" + 0.018*\"golden\" + 0.018*\"elbow\" + 0.018*\"ice\"\n",
      "Topic: 26 \n",
      "Words: 0.043*\"park\" + 0.017*\"review\" + 0.017*\"vehicl\" + 0.015*\"week\" + 0.013*\"nfl\" + 0.011*\"falcon\" + 0.011*\"anim\" + 0.011*\"give\" + 0.011*\"fashion\" + 0.011*\"javal\"\n",
      "Topic: 27 \n",
      "Words: 0.035*\"offici\" + 0.026*\"video\" + 0.015*\"china\" + 0.015*\"jimmer\" + 0.015*\"week\" + 0.015*\"justic\" + 0.015*\"marburi\" + 0.015*\"onlin\" + 0.015*\"fight\" + 0.015*\"fredett\"\n",
      "Topic: 28 \n",
      "Words: 0.027*\"watermarbl\" + 0.016*\"sandal\" + 0.016*\"tie\" + 0.016*\"zip\" + 0.016*\"biggest\" + 0.016*\"tesla\" + 0.016*\"problem\" + 0.016*\"make\" + 0.016*\"saw\" + 0.016*\"laser\"\n",
      "Topic: 29 \n",
      "Words: 0.019*\"embiid\" + 0.019*\"joel\" + 0.019*\"clipper\" + 0.012*\"willi\" + 0.012*\"frontal\" + 0.012*\"espn\" + 0.012*\"mtb\" + 0.012*\"target\" + 0.012*\"mind\" + 0.012*\"reed\"\n"
     ]
    }
   ],
   "source": [
    "for idx, topic in lda_model.print_topics(-1):\n",
    "    print('Topic: {} \\nWords: {}'.format(idx, topic))"
   ]
  },
  {
   "cell_type": "code",
   "execution_count": 33,
   "metadata": {},
   "outputs": [
    {
     "name": "stdout",
     "output_type": "stream",
     "text": [
      "Topic: 0 \n",
      "Words: 0.020*\"pacif\" + 0.016*\"classic\" + 0.013*\"electr\" + 0.013*\"homemad\" + 0.013*\"airplan\" + 0.012*\"rim\" + 0.012*\"chang\" + 0.012*\"format\" + 0.012*\"carrier\" + 0.012*\"ocean\"\n",
      "Topic: 1 \n",
      "Words: 0.018*\"slow\" + 0.017*\"cream\" + 0.017*\"gadget\" + 0.016*\"test\" + 0.015*\"ice\" + 0.014*\"littl\" + 0.013*\"train\" + 0.012*\"jimmi\" + 0.010*\"kiwi\" + 0.010*\"audio\"\n",
      "Topic: 2 \n",
      "Words: 0.018*\"iii\" + 0.018*\"betray\" + 0.015*\"nickelback\" + 0.015*\"offici\" + 0.015*\"act\" + 0.014*\"rachel\" + 0.012*\"reput\" + 0.012*\"video\" + 0.012*\"movi\" + 0.011*\"jason\"\n",
      "Topic: 3 \n",
      "Words: 0.021*\"talk\" + 0.020*\"marriag\" + 0.020*\"want\" + 0.019*\"awesom\" + 0.019*\"pet\" + 0.015*\"insid\" + 0.015*\"peopl\" + 0.014*\"detect\" + 0.014*\"car\" + 0.013*\"liza\"\n",
      "Topic: 4 \n",
      "Words: 0.010*\"alt\" + 0.010*\"pleader\" + 0.009*\"audio\" + 0.008*\"confession\" + 0.008*\"dashboard\" + 0.008*\"offici\" + 0.008*\"video\" + 0.008*\"airlin\" + 0.008*\"spirit\" + 0.008*\"shouldn\"\n",
      "Topic: 5 \n",
      "Words: 0.020*\"peopl\" + 0.016*\"shower\" + 0.015*\"video\" + 0.015*\"offici\" + 0.013*\"miss\" + 0.012*\"sit\" + 0.012*\"foster\" + 0.011*\"wonâ\" + 0.011*\"robot\" + 0.011*\"rise\"\n",
      "Topic: 6 \n",
      "Words: 0.017*\"take\" + 0.017*\"offer\" + 0.017*\"lambo\" + 0.017*\"carmax\" + 0.014*\"fun\" + 0.014*\"funfetti\" + 0.013*\"interview\" + 0.013*\"extrem\" + 0.010*\"heidelberg\" + 0.010*\"later\"\n",
      "Topic: 7 \n",
      "Words: 0.019*\"veteransday\" + 0.019*\"thank\" + 0.018*\"talk\" + 0.017*\"danger\" + 0.016*\"drive\" + 0.016*\"camera\" + 0.012*\"european\" + 0.011*\"thing\" + 0.011*\"weird\" + 0.011*\"giraff\"\n",
      "Topic: 8 \n",
      "Words: 0.030*\"dream\" + 0.028*\"control\" + 0.018*\"disney\" + 0.015*\"drummer\" + 0.015*\"nick\" + 0.015*\"andopoli\" + 0.012*\"mickey\" + 0.012*\"send\" + 0.012*\"mous\" + 0.012*\"john\"\n",
      "Topic: 9 \n",
      "Words: 0.019*\"celebr\" + 0.018*\"thanksgiv\" + 0.013*\"date\" + 0.013*\"know\" + 0.012*\"vent\" + 0.012*\"hard\" + 0.010*\"onlin\" + 0.010*\"teen\" + 0.010*\"hack\" + 0.010*\"wwe\"\n",
      "Topic: 10 \n",
      "Words: 0.020*\"audio\" + 0.018*\"googl\" + 0.015*\"iraq\" + 0.015*\"border\" + 0.015*\"iran\" + 0.015*\"offici\" + 0.015*\"earthquak\" + 0.013*\"pixelbook\" + 0.013*\"magnitud\" + 0.012*\"iphon\"\n",
      "Topic: 11 \n",
      "Words: 0.015*\"offici\" + 0.015*\"music\" + 0.015*\"video\" + 0.014*\"sheeran\" + 0.013*\"fei\" + 0.013*\"perfect\" + 0.011*\"beauti\" + 0.011*\"morti\" + 0.009*\"news\" + 0.009*\"eazi\"\n",
      "Topic: 12 \n",
      "Words: 0.032*\"cat\" + 0.024*\"commerci\" + 0.016*\"bite\" + 0.014*\"licens\" + 0.012*\"astin\" + 0.012*\"driver\" + 0.012*\"lord\" + 0.011*\"lele\" + 0.011*\"pon\" + 0.011*\"ring\"\n",
      "Topic: 13 \n",
      "Words: 0.019*\"ice\" + 0.016*\"primer\" + 0.014*\"work\" + 0.013*\"card\" + 0.013*\"human\" + 0.012*\"america\" + 0.011*\"diminut\" + 0.011*\"save\" + 0.011*\"karaok\" + 0.011*\"carpool\"\n",
      "Topic: 14 \n",
      "Words: 0.022*\"week\" + 0.016*\"iphon\" + 0.012*\"king\" + 0.012*\"superman\" + 0.012*\"racist\" + 0.012*\"mancuso\" + 0.012*\"rudi\" + 0.012*\"bach\" + 0.011*\"store\" + 0.011*\"dollar\"\n",
      "Topic: 15 \n",
      "Words: 0.020*\"shop\" + 0.019*\"water\" + 0.014*\"fish\" + 0.014*\"new\" + 0.014*\"trailer\" + 0.013*\"shape\" + 0.011*\"extra\" + 0.011*\"ebay\" + 0.011*\"final\" + 0.011*\"target\"\n",
      "Topic: 16 \n",
      "Words: 0.025*\"let\" + 0.021*\"snowman\" + 0.021*\"sia\" + 0.014*\"long\" + 0.013*\"walker\" + 0.013*\"alan\" + 0.013*\"breath\" + 0.013*\"hold\" + 0.012*\"fall\" + 0.011*\"peopl\"\n",
      "Topic: 17 \n",
      "Words: 0.011*\"marathon\" + 0.011*\"half\" + 0.011*\"meganbyt\" + 0.011*\"run\" + 0.011*\"edna\" + 0.011*\"owner\" + 0.011*\"regist\" + 0.009*\"sign\" + 0.009*\"canta\" + 0.009*\"italia\"\n",
      "Topic: 18 \n",
      "Words: 0.029*\"blackout\" + 0.016*\"john\" + 0.012*\"week\" + 0.012*\"hbo\" + 0.012*\"trump\" + 0.012*\"oliv\" + 0.012*\"tonight\" + 0.011*\"presid\" + 0.011*\"ask\" + 0.011*\"horan\"\n",
      "Topic: 19 \n",
      "Words: 0.018*\"hay\" + 0.018*\"hunter\" + 0.018*\"pictur\" + 0.018*\"express\" + 0.018*\"mdna\" + 0.017*\"skin\" + 0.016*\"champion\" + 0.016*\"showdown\" + 0.015*\"shirt\" + 0.015*\"dri\"\n",
      "Topic: 20 \n",
      "Words: 0.017*\"spaghetti\" + 0.017*\"burrito\" + 0.016*\"nail\" + 0.015*\"watermarbl\" + 0.015*\"movi\" + 0.013*\"studi\" + 0.013*\"bad\" + 0.013*\"bass\" + 0.013*\"audienc\" + 0.013*\"solo\"\n",
      "Topic: 21 \n",
      "Words: 0.031*\"spotmini\" + 0.024*\"new\" + 0.021*\"amor\" + 0.018*\"tea\" + 0.018*\"spill\" + 0.017*\"iphon\" + 0.016*\"kimbra\" + 0.015*\"princess\" + 0.015*\"anastasia\" + 0.015*\"bald\"\n",
      "Topic: 22 \n",
      "Words: 0.012*\"week\" + 0.011*\"falcon\" + 0.011*\"cowboy\" + 0.011*\"surpris\" + 0.011*\"jaden\" + 0.010*\"nfl\" + 0.010*\"highlight\" + 0.009*\"manuel\" + 0.009*\"miranda\" + 0.009*\"help\"\n",
      "Topic: 23 \n",
      "Words: 0.022*\"emir\" + 0.020*\"player\" + 0.014*\"honest\" + 0.014*\"forev\" + 0.013*\"phillip\" + 0.013*\"montag\" + 0.013*\"jack\" + 0.013*\"moment\" + 0.012*\"chris\" + 0.012*\"batman\"\n",
      "Topic: 24 \n",
      "Words: 0.024*\"offici\" + 0.023*\"video\" + 0.022*\"young\" + 0.020*\"golden\" + 0.018*\"marshmello\" + 0.018*\"block\" + 0.013*\"minaj\" + 0.013*\"nicki\" + 0.013*\"music\" + 0.012*\"tan\"\n",
      "Topic: 25 \n",
      "Words: 0.025*\"hilari\" + 0.017*\"bodi\" + 0.017*\"coller\" + 0.016*\"live\" + 0.013*\"know\" + 0.012*\"ruffalo\" + 0.012*\"read\" + 0.012*\"thirst\" + 0.011*\"makeup\" + 0.010*\"sorri\"\n",
      "Topic: 26 \n",
      "Words: 0.013*\"smith\" + 0.013*\"jam\" + 0.011*\"denni\" + 0.011*\"forth\" + 0.010*\"good\" + 0.010*\"lebron\" + 0.009*\"content\" + 0.009*\"product\" + 0.009*\"creation\" + 0.009*\"app\"\n",
      "Topic: 27 \n",
      "Words: 0.017*\"numberphil\" + 0.017*\"prim\" + 0.017*\"proth\" + 0.015*\"iphon\" + 0.015*\"face\" + 0.014*\"cello\" + 0.014*\"paradiso\" + 0.014*\"cinema\" + 0.014*\"sell\" + 0.014*\"machin\"\n",
      "Topic: 28 \n",
      "Words: 0.017*\"train\" + 0.014*\"walk\" + 0.014*\"watch\" + 0.013*\"worth\" + 0.011*\"beyoncã\" + 0.011*\"eminem\" + 0.011*\"batman\" + 0.011*\"face\" + 0.011*\"justic\" + 0.011*\"leagu\"\n",
      "Topic: 29 \n",
      "Words: 0.021*\"countri\" + 0.016*\"collaps\" + 0.016*\"wrong\" + 0.015*\"minut\" + 0.014*\"simon\" + 0.014*\"birthday\" + 0.014*\"audio\" + 0.013*\"acoust\" + 0.013*\"guid\" + 0.012*\"barbi\"\n"
     ]
    }
   ],
   "source": [
    "lda_model_tfidf = gensim.models.LdaMulticore(corpus_tfidf, num_topics=30, id2word=dictionary, passes=2, workers=4)\n",
    "\n",
    "for idx, topic in lda_model_tfidf.print_topics(-1):\n",
    "    print('Topic: {} \\nWords: {}'.format(idx, topic))"
   ]
  },
  {
   "cell_type": "code",
   "execution_count": 34,
   "metadata": {},
   "outputs": [
    {
     "name": "stdout",
     "output_type": "stream",
     "text": [
      "Score: 0.34910067915916443\t Topic: 0.038*\"face\" + 0.030*\"offici\" + 0.020*\"old\" + 0.020*\"taylor\" + 0.019*\"iphon\"\n",
      "Score: 0.3286830484867096\t Topic: 0.090*\"video\" + 0.089*\"offici\" + 0.059*\"music\" + 0.029*\"amor\" + 0.025*\"world\"\n",
      "Score: 0.17221234738826752\t Topic: 0.017*\"cake\" + 0.017*\"studi\" + 0.017*\"helbig\" + 0.017*\"movi\" + 0.017*\"molli\"\n"
     ]
    }
   ],
   "source": [
    "test_title = 'Taylor Swift Music Video Bad Blood'\n",
    "bow_vector = dictionary.doc2bow(preprocess(test_title))\n",
    "\n",
    "for index, score in sorted(lda_model[bow_vector], key=lambda tup: -1*tup[1]):\n",
    "    print(\"Score: {}\\t Topic: {}\".format(score, lda_model.print_topic(index, 5)))"
   ]
  },
  {
   "cell_type": "code",
   "execution_count": 35,
   "metadata": {},
   "outputs": [
    {
     "name": "stdout",
     "output_type": "stream",
     "text": [
      "Score: 0.5166414976119995\t Topic: 0.031*\"spotmini\" + 0.024*\"new\" + 0.021*\"amor\" + 0.018*\"tea\" + 0.018*\"spill\"\n",
      "Score: 0.01666753552854061\t Topic: 0.020*\"pacif\" + 0.016*\"classic\" + 0.013*\"electr\" + 0.013*\"homemad\" + 0.013*\"airplan\"\n",
      "Score: 0.01666753552854061\t Topic: 0.018*\"slow\" + 0.017*\"cream\" + 0.017*\"gadget\" + 0.016*\"test\" + 0.015*\"ice\"\n",
      "Score: 0.01666753552854061\t Topic: 0.018*\"iii\" + 0.018*\"betray\" + 0.015*\"nickelback\" + 0.015*\"offici\" + 0.015*\"act\"\n",
      "Score: 0.01666753552854061\t Topic: 0.021*\"talk\" + 0.020*\"marriag\" + 0.020*\"want\" + 0.019*\"awesom\" + 0.019*\"pet\"\n",
      "Score: 0.01666753552854061\t Topic: 0.010*\"alt\" + 0.010*\"pleader\" + 0.009*\"audio\" + 0.008*\"confession\" + 0.008*\"dashboard\"\n",
      "Score: 0.01666753552854061\t Topic: 0.020*\"peopl\" + 0.016*\"shower\" + 0.015*\"video\" + 0.015*\"offici\" + 0.013*\"miss\"\n",
      "Score: 0.01666753552854061\t Topic: 0.017*\"take\" + 0.017*\"offer\" + 0.017*\"lambo\" + 0.017*\"carmax\" + 0.014*\"fun\"\n",
      "Score: 0.01666753552854061\t Topic: 0.019*\"veteransday\" + 0.019*\"thank\" + 0.018*\"talk\" + 0.017*\"danger\" + 0.016*\"drive\"\n",
      "Score: 0.01666753552854061\t Topic: 0.030*\"dream\" + 0.028*\"control\" + 0.018*\"disney\" + 0.015*\"drummer\" + 0.015*\"nick\"\n",
      "Score: 0.01666753552854061\t Topic: 0.019*\"celebr\" + 0.018*\"thanksgiv\" + 0.013*\"date\" + 0.013*\"know\" + 0.012*\"vent\"\n",
      "Score: 0.01666753552854061\t Topic: 0.020*\"audio\" + 0.018*\"googl\" + 0.015*\"iraq\" + 0.015*\"border\" + 0.015*\"iran\"\n",
      "Score: 0.01666753552854061\t Topic: 0.015*\"offici\" + 0.015*\"music\" + 0.015*\"video\" + 0.014*\"sheeran\" + 0.013*\"fei\"\n",
      "Score: 0.01666753552854061\t Topic: 0.032*\"cat\" + 0.024*\"commerci\" + 0.016*\"bite\" + 0.014*\"licens\" + 0.012*\"astin\"\n",
      "Score: 0.01666753552854061\t Topic: 0.019*\"ice\" + 0.016*\"primer\" + 0.014*\"work\" + 0.013*\"card\" + 0.013*\"human\"\n",
      "Score: 0.01666753552854061\t Topic: 0.022*\"week\" + 0.016*\"iphon\" + 0.012*\"king\" + 0.012*\"superman\" + 0.012*\"racist\"\n",
      "Score: 0.01666753552854061\t Topic: 0.020*\"shop\" + 0.019*\"water\" + 0.014*\"fish\" + 0.014*\"new\" + 0.014*\"trailer\"\n",
      "Score: 0.01666753552854061\t Topic: 0.025*\"let\" + 0.021*\"snowman\" + 0.021*\"sia\" + 0.014*\"long\" + 0.013*\"walker\"\n",
      "Score: 0.01666753552854061\t Topic: 0.011*\"marathon\" + 0.011*\"half\" + 0.011*\"meganbyt\" + 0.011*\"run\" + 0.011*\"edna\"\n",
      "Score: 0.01666753552854061\t Topic: 0.029*\"blackout\" + 0.016*\"john\" + 0.012*\"week\" + 0.012*\"hbo\" + 0.012*\"trump\"\n",
      "Score: 0.01666753552854061\t Topic: 0.018*\"hay\" + 0.018*\"hunter\" + 0.018*\"pictur\" + 0.018*\"express\" + 0.018*\"mdna\"\n",
      "Score: 0.01666753552854061\t Topic: 0.017*\"spaghetti\" + 0.017*\"burrito\" + 0.016*\"nail\" + 0.015*\"watermarbl\" + 0.015*\"movi\"\n",
      "Score: 0.01666753552854061\t Topic: 0.012*\"week\" + 0.011*\"falcon\" + 0.011*\"cowboy\" + 0.011*\"surpris\" + 0.011*\"jaden\"\n",
      "Score: 0.01666753552854061\t Topic: 0.022*\"emir\" + 0.020*\"player\" + 0.014*\"honest\" + 0.014*\"forev\" + 0.013*\"phillip\"\n",
      "Score: 0.01666753552854061\t Topic: 0.024*\"offici\" + 0.023*\"video\" + 0.022*\"young\" + 0.020*\"golden\" + 0.018*\"marshmello\"\n",
      "Score: 0.01666753552854061\t Topic: 0.025*\"hilari\" + 0.017*\"bodi\" + 0.017*\"coller\" + 0.016*\"live\" + 0.013*\"know\"\n",
      "Score: 0.01666753552854061\t Topic: 0.013*\"smith\" + 0.013*\"jam\" + 0.011*\"denni\" + 0.011*\"forth\" + 0.010*\"good\"\n",
      "Score: 0.01666753552854061\t Topic: 0.017*\"numberphil\" + 0.017*\"prim\" + 0.017*\"proth\" + 0.015*\"iphon\" + 0.015*\"face\"\n",
      "Score: 0.01666753552854061\t Topic: 0.017*\"train\" + 0.014*\"walk\" + 0.014*\"watch\" + 0.013*\"worth\" + 0.011*\"beyoncã\"\n",
      "Score: 0.01666753552854061\t Topic: 0.021*\"countri\" + 0.016*\"collaps\" + 0.016*\"wrong\" + 0.015*\"minut\" + 0.014*\"simon\"\n"
     ]
    }
   ],
   "source": [
    "test_title = 'Best Vine 2018'\n",
    "bow_vector = dictionary.doc2bow(preprocess(test_title))\n",
    "\n",
    "for index, score in sorted(lda_model_tfidf[bow_vector], key=lambda tup: -1*tup[1]):\n",
    "    print(\"Score: {}\\t Topic: {}\".format(score, lda_model_tfidf.print_topic(index, 5)))"
   ]
  },
  {
   "cell_type": "code",
   "execution_count": 40,
   "metadata": {},
   "outputs": [
    {
     "name": "stdout",
     "output_type": "stream",
     "text": [
      "Score: 0.34444043040275574\t Topic: 0.035*\"offici\" + 0.026*\"video\" + 0.015*\"china\" + 0.015*\"jimmer\" + 0.015*\"week\"\n",
      "Score: 0.34443923830986023\t Topic: 0.015*\"frank\" + 0.015*\"japanes\" + 0.015*\"wild\" + 0.015*\"sakura\" + 0.015*\"sean\"\n",
      "Score: 0.011111441068351269\t Topic: 0.028*\"surpris\" + 0.028*\"lyric\" + 0.023*\"video\" + 0.014*\"jimmi\" + 0.014*\"pitbul\"\n",
      "Score: 0.011111441068351269\t Topic: 0.031*\"audio\" + 0.025*\"star\" + 0.025*\"offici\" + 0.022*\"bodi\" + 0.022*\"hilari\"\n",
      "Score: 0.011111441068351269\t Topic: 0.030*\"watch\" + 0.021*\"secret\" + 0.018*\"lace\" + 0.018*\"reveal\" + 0.018*\"lay\"\n",
      "Score: 0.011111441068351269\t Topic: 0.035*\"spaghetti\" + 0.035*\"burrito\" + 0.018*\"democraci\" + 0.018*\"dictat\" + 0.018*\"smart\"\n",
      "Score: 0.011111441068351269\t Topic: 0.024*\"jason\" + 0.018*\"offici\" + 0.015*\"trailer\" + 0.012*\"mcadam\" + 0.012*\"later\"\n",
      "Score: 0.011111441068351269\t Topic: 0.046*\"week\" + 0.024*\"player\" + 0.024*\"end\" + 0.020*\"iphon\" + 0.017*\"hbo\"\n",
      "Score: 0.011111441068351269\t Topic: 0.023*\"open\" + 0.023*\"video\" + 0.023*\"lyric\" + 0.018*\"offici\" + 0.015*\"smith\"\n",
      "Score: 0.011111441068351269\t Topic: 0.032*\"peopl\" + 0.030*\"pet\" + 0.030*\"awesom\" + 0.017*\"worth\" + 0.017*\"shower\"\n",
      "Score: 0.011111441068351269\t Topic: 0.029*\"react\" + 0.017*\"express\" + 0.017*\"mdna\" + 0.017*\"danc\" + 0.017*\"know\"\n",
      "Score: 0.011111441068351269\t Topic: 0.021*\"dream\" + 0.021*\"control\" + 0.018*\"makeup\" + 0.018*\"review\" + 0.017*\"face\"\n",
      "Score: 0.011111441068351269\t Topic: 0.038*\"face\" + 0.030*\"offici\" + 0.020*\"old\" + 0.020*\"taylor\" + 0.019*\"iphon\"\n",
      "Score: 0.011111441068351269\t Topic: 0.030*\"fei\" + 0.024*\"surpris\" + 0.018*\"video\" + 0.015*\"secret\" + 0.015*\"beauti\"\n",
      "Score: 0.011111441068351269\t Topic: 0.017*\"cake\" + 0.017*\"studi\" + 0.017*\"helbig\" + 0.017*\"movi\" + 0.017*\"molli\"\n",
      "Score: 0.011111441068351269\t Topic: 0.090*\"video\" + 0.089*\"offici\" + 0.059*\"music\" + 0.029*\"amor\" + 0.025*\"world\"\n",
      "Score: 0.011111441068351269\t Topic: 0.024*\"talk\" + 0.021*\"want\" + 0.021*\"marriag\" + 0.018*\"earthquak\" + 0.018*\"girlfriend\"\n",
      "Score: 0.011111441068351269\t Topic: 0.018*\"honest\" + 0.018*\"owner\" + 0.018*\"year\" + 0.018*\"think\" + 0.018*\"batman\"\n",
      "Score: 0.011111441068351269\t Topic: 0.043*\"trailer\" + 0.032*\"slow\" + 0.016*\"guy\" + 0.016*\"final\" + 0.016*\"live\"\n",
      "Score: 0.011111441068351269\t Topic: 0.034*\"offici\" + 0.034*\"video\" + 0.022*\"music\" + 0.019*\"nickelback\" + 0.019*\"tweet\"\n",
      "Score: 0.011111441068351269\t Topic: 0.027*\"style\" + 0.027*\"harri\" + 0.014*\"factor\" + 0.014*\"sign\" + 0.014*\"canta\"\n",
      "Score: 0.011111441068351269\t Topic: 0.049*\"iphon\" + 0.026*\"test\" + 0.022*\"ice\" + 0.022*\"gadget\" + 0.022*\"cream\"\n",
      "Score: 0.011111441068351269\t Topic: 0.056*\"talk\" + 0.021*\"drive\" + 0.021*\"danger\" + 0.021*\"camera\" + 0.019*\"dead\"\n",
      "Score: 0.011111441068351269\t Topic: 0.027*\"emir\" + 0.019*\"new\" + 0.016*\"versac\" + 0.016*\"bon\" + 0.016*\"guy\"\n",
      "Score: 0.011111441068351269\t Topic: 0.024*\"face\" + 0.024*\"love\" + 0.017*\"bach\" + 0.017*\"king\" + 0.017*\"superman\"\n",
      "Score: 0.011111441068351269\t Topic: 0.026*\"bite\" + 0.026*\"sorri\" + 0.021*\"audio\" + 0.021*\"dare\" + 0.021*\"bald\"\n",
      "Score: 0.011111441068351269\t Topic: 0.039*\"cat\" + 0.033*\"lewi\" + 0.033*\"john\" + 0.021*\"let\" + 0.018*\"cream\"\n",
      "Score: 0.011111441068351269\t Topic: 0.043*\"park\" + 0.017*\"review\" + 0.017*\"vehicl\" + 0.015*\"week\" + 0.013*\"nfl\"\n",
      "Score: 0.011111441068351269\t Topic: 0.027*\"watermarbl\" + 0.016*\"sandal\" + 0.016*\"tie\" + 0.016*\"zip\" + 0.016*\"biggest\"\n",
      "Score: 0.011111441068351269\t Topic: 0.019*\"embiid\" + 0.019*\"joel\" + 0.019*\"clipper\" + 0.012*\"willi\" + 0.012*\"frontal\"\n"
     ]
    }
   ],
   "source": [
    "test_title = 'food in china'\n",
    "bow_vector = dictionary.doc2bow(preprocess(test_title))\n",
    "\n",
    "for index, score in sorted(lda_model[bow_vector], key=lambda tup: -1*tup[1]):\n",
    "    print(\"Score: {}\\t Topic: {}\".format(score, lda_model.print_topic(index, 5)))"
   ]
  },
  {
   "cell_type": "code",
   "execution_count": null,
   "metadata": {},
   "outputs": [],
   "source": []
  }
 ],
 "metadata": {
  "kernelspec": {
   "display_name": "Python 3",
   "language": "python",
   "name": "python3"
  },
  "language_info": {
   "codemirror_mode": {
    "name": "ipython",
    "version": 3
   },
   "file_extension": ".py",
   "mimetype": "text/x-python",
   "name": "python",
   "nbconvert_exporter": "python",
   "pygments_lexer": "ipython3",
   "version": "3.6.4"
  }
 },
 "nbformat": 4,
 "nbformat_minor": 2
}
