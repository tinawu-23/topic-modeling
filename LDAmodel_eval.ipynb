{
 "cells": [
  {
   "cell_type": "code",
   "execution_count": 75,
   "metadata": {},
   "outputs": [],
   "source": [
    "def compute_hellinger(model, NUMTOPICS):\n",
    "    import itertools\n",
    "    from gensim.matutils import kullback_leibler, jaccard, hellinger, sparse2full\n",
    "\n",
    "    distlst = []\n",
    "    topics = [i for i in range(NUMTOPICS)]\n",
    "    combinations = itertools.combinations(topics, 2)\n",
    "    for c in combinations:\n",
    "        dist1 = make_topics_bow(model, model.print_topic(c[0], topn=30))\n",
    "        dist2 = make_topics_bow(model, model.print_topic(c[1], topn=30))\n",
    "        distlst.append(hellinger(dist1, dist2))\n",
    "\n",
    "    avgdist = sum(distlst)/len(distlst)\n",
    "    print(avgdist)"
   ]
  },
  {
   "cell_type": "code",
   "execution_count": 76,
   "metadata": {},
   "outputs": [],
   "source": [
    "def make_topics_bow(model, topic):\n",
    "    # takes the string returned by model.show_topics()\n",
    "    # split on strings to get topics and the probabilities\n",
    "    topic = topic.split('+')\n",
    "    # list to store topic bows\n",
    "    topic_bow = []\n",
    "    for word in topic:\n",
    "        # split probability and word\n",
    "        prob, word = word.split('*')\n",
    "        # get rid of spaces\n",
    "        word = word.replace(\" \",\"\")[1:-1]\n",
    "        # convert to word_type\n",
    "        word = model.id2word.doc2bow([word])[0][0]\n",
    "        topic_bow.append((word, float(prob)))\n",
    "    return topic_bow\n"
   ]
  },
  {
   "cell_type": "code",
   "execution_count": 77,
   "metadata": {},
   "outputs": [],
   "source": [
    "def runlda(fileinput, NUMTOPICS=30, NUMPASSES=10, NUMITERATIONS=10):\n",
    "    print('runlda...')\n",
    "    from gensim.corpora import Dictionary\n",
    "    from gensim.models.ldamodel import LdaModel\n",
    "    from gensim.models.coherencemodel import CoherenceModel\n",
    "    import numpy as np\n",
    "    docs,word2freqtopics = [],{}\n",
    "    fr = open(fileinput,'r')\n",
    "    for line in fr:\n",
    "        words = line.strip('\\r\\n').split(' ')\n",
    "        docs.append(words)\n",
    "        for word in words:\n",
    "            if not word in word2freqtopics:\n",
    "                word2freqtopics[word] = [0,[0. for i in range(NUMTOPICS)]]\n",
    "            word2freqtopics[word][0] += 1\n",
    "    fr.close()\n",
    "    V = len(word2freqtopics)\n",
    "    dct = Dictionary(docs)\n",
    "    model = LdaModel(corpus=[dct.doc2bow(doc) for doc in docs], id2word=dct, num_topics=NUMTOPICS, passes=NUMPASSES, iterations=NUMITERATIONS)\n",
    "    \n",
    "    ### Evaluation ###\n",
    "    \n",
    "    # Computer Hellinger\n",
    "    compute_hellinger(model, NUMTOPICS)\n",
    "    \n",
    "    # Compute Coherence Score using c_v\n",
    "    coherence_model_lda = CoherenceModel(model=model, texts=docs, dictionary=dct, coherence='c_v')\n",
    "    coherence_lda = coherence_model_lda.get_coherence()\n",
    "    print('\\nCoherence Score with c_v: ', coherence_lda)\n",
    "    \n",
    "    # Compute Coherence Score using UMass\n",
    "    coherence_model_lda = CoherenceModel(model=model, corpus=[dct.doc2bow(doc) for doc in docs], coherence=\"u_mass\")\n",
    "    coherence_lda = coherence_model_lda.get_coherence()\n",
    "    print('\\nCoherence Score with UMass: ', coherence_lda)"
   ]
  },
  {
   "cell_type": "code",
   "execution_count": 78,
   "metadata": {},
   "outputs": [
    {
     "name": "stdout",
     "output_type": "stream",
     "text": [
      "runlda...\n",
      "0.5911229655989294\n",
      "\n",
      "Coherence Score with c_v:  0.4548458497511928\n",
      "\n",
      "Coherence Score with UMass:  -3.836796280455304\n",
      "\n",
      "runlda...\n",
      "0.6038398759487558\n",
      "\n",
      "Coherence Score with c_v:  0.46985668337466957\n",
      "\n",
      "Coherence Score with UMass:  -4.514284954247871\n",
      "\n",
      "runlda...\n",
      "0.6192977682697359\n",
      "\n",
      "Coherence Score with c_v:  0.492495595642238\n",
      "\n",
      "Coherence Score with UMass:  -4.2076082552698795\n",
      "\n"
     ]
    }
   ],
   "source": [
    "runlda('LDA/documents.txt', 30, 20, 20)\n",
    "print(\"\")\n",
    "runlda('LDA/documents-15.txt', 30, 20, 20)\n",
    "print(\"\")\n",
    "runlda('LDA/documents-all.txt', 30, 20, 20)\n",
    "print(\"\")"
   ]
  }
 ],
 "metadata": {
  "kernelspec": {
   "display_name": "Python 3",
   "language": "python",
   "name": "python3"
  },
  "language_info": {
   "codemirror_mode": {
    "name": "ipython",
    "version": 3
   },
   "file_extension": ".py",
   "mimetype": "text/x-python",
   "name": "python",
   "nbconvert_exporter": "python",
   "pygments_lexer": "ipython3",
   "version": "3.6.5"
  }
 },
 "nbformat": 4,
 "nbformat_minor": 2
}
